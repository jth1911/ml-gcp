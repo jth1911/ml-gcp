{
 "cells": [
  {
   "cell_type": "code",
   "execution_count": null,
   "metadata": {
    "id": "ur8xi4C7S06n"
   },
   "outputs": [],
   "source": [
    "# Copyright 2023 Google LLC\n",
    "#\n",
    "# Licensed under the Apache License, Version 2.0 (the \"License\");\n",
    "# you may not use this file except in compliance with the License.\n",
    "# You may obtain a copy of the License at\n",
    "#\n",
    "#     https://www.apache.org/licenses/LICENSE-2.0\n",
    "#\n",
    "# Unless required by applicable law or agreed to in writing, software\n",
    "# distributed under the License is distributed on an \"AS IS\" BASIS,\n",
    "# WITHOUT WARRANTIES OR CONDITIONS OF ANY KIND, either express or implied.\n",
    "# See the License for the specific language governing permissions and\n",
    "# limitations under the License."
   ]
  },
  {
   "cell_type": "markdown",
   "metadata": {
    "id": "JAPoU8Sm5E6e"
   },
   "source": [
    "# Ideation with Generative Models on Vertex AI\n",
    "\n",
    "<table align=\"left\">\n",
    "  <td style=\"text-align: center\">\n",
    "    <a href=\"https://colab.research.google.com/github/GoogleCloudPlatform/generative-ai/blob/main/language/prompts/examples/ideation.ipynb\">\n",
    "      <img src=\"https://cloud.google.com/ml-engine/images/colab-logo-32px.png\" alt=\"Google Colaboratory logo\"><br> Run in Colab\n",
    "    </a>\n",
    "  </td>\n",
    "  <td style=\"text-align: center\">\n",
    "    <a href=\"https://github.com/GoogleCloudPlatform/generative-ai/blob/main/language/prompts/examples/ideation.ipynb\">\n",
    "      <img src=\"https://cloud.google.com/ml-engine/images/github-logo-32px.png\" alt=\"GitHub logo\"><br> View on GitHub\n",
    "    </a>\n",
    "  </td>\n",
    "  <td style=\"text-align: center\">\n",
    "    <a href=\"https://console.cloud.google.com/vertex-ai/workbench/deploy-notebook?download_url=https://raw.githubusercontent.com/GoogleCloudPlatform/generative-ai/blob/main/language/prompts/examples/ideation.ipynb\">\n",
    "      <img src=\"https://lh3.googleusercontent.com/UiNooY4LUgW_oTvpsNhPpQzsstV5W8F7rYgxgGBD85cWJoLmrOzhVs_ksK_vgx40SHs7jCqkTkCk=e14-rj-sc0xffffff-h130-w32\" alt=\"Vertex AI logo\"><br> Open in Vertex AI Workbench\n",
    "    </a>\n",
    "  </td>\n",
    "</table>\n"
   ]
  },
  {
   "cell_type": "markdown",
   "metadata": {
    "id": "tvgnzT1CKxrO"
   },
   "source": [
    "## Overview\n",
    "\n",
    "Ideation is the creative process of generating, developing, and communicating new ideas. It is a key part of the design thinking process, and can be used to solve problems, come up with new products or services, or other creative tasks.\n",
    "\n",
    "Generative models are a powerful tool that can be used to boost creativity and innovation. By learning how to use them effectively, you can improve your ability to come up with new ideas and solutions to problems. A key part in this is learning how to structure prompts to use generative models for ideation tasks.\n",
    "\n",
    "Learn more about prompt design in the [official documentation](https://cloud.google.com/vertex-ai/docs/generative-ai/text/text-overview#prompt_structure)."
   ]
  },
  {
   "cell_type": "markdown",
   "metadata": {
    "id": "d975e698c9a4"
   },
   "source": [
    "### Objective\n",
    "\n",
    "In this tutorial, you will learn how to use generative models from the Vertex AI SDK to accelerate the ideation process by working through the following examples:\n",
    "- Marketing campaign generation\n",
    "- Creating reading comprehension questions\n",
    "- Meme generation\n",
    "- Interview question generation\n",
    "- Name generation\n",
    "- General tips and advice\n",
    "- Generating answers through \"impersonation\""
   ]
  },
  {
   "cell_type": "markdown",
   "metadata": {
    "id": "aed92deeb4a0"
   },
   "source": [
    "### Costs\n",
    "\n",
    "This tutorial uses billable components of Google Cloud:\n",
    "\n",
    "* Vertex AI Generative AI Studio\n",
    "\n",
    "Learn about [Vertex AI pricing](https://cloud.google.com/vertex-ai/pricing),\n",
    "and use the [Pricing Calculator](https://cloud.google.com/products/calculator/)\n",
    "to generate a cost estimate based on your projected usage."
   ]
  },
  {
   "cell_type": "markdown",
   "metadata": {
    "id": "UwfLa-Uzua-4"
   },
   "source": [
    "## Getting Started"
   ]
  },
  {
   "cell_type": "markdown",
   "metadata": {
    "id": "2a5AEr0lkLKD"
   },
   "source": [
    "### Install Vertex AI SDK"
   ]
  },
  {
   "cell_type": "code",
   "execution_count": null,
   "metadata": {
    "id": "148dd6321946"
   },
   "outputs": [],
   "source": [
    "!pip install google-cloud-aiplatform --upgrade --user"
   ]
  },
  {
   "cell_type": "markdown",
   "metadata": {},
   "source": [
    "**Colab only:** Uncomment the following cell to restart the kernel or use the button to restart the kernel. For Vertex AI Workbench you can restart the terminal using the button on top. "
   ]
  },
  {
   "cell_type": "code",
   "execution_count": null,
   "metadata": {
    "id": "_Hsqwn4hkLKE"
   },
   "outputs": [],
   "source": [
    "# # Automatically restart kernel after installs so that your environment can access the new packages\n",
    "# import IPython\n",
    "\n",
    "# app = IPython.Application.instance()\n",
    "# app.kernel.do_shutdown(True)"
   ]
  },
  {
   "cell_type": "markdown",
   "metadata": {
    "id": "Xe7OuYuGkLKF"
   },
   "source": [
    "### Authenticating your notebook environment\n",
    "* If you are using **Colab** to run this notebook, uncomment the cell below and continue.\n",
    "* If you are using **Vertex AI Workbench**, check out the setup instructions [here](https://github.com/GoogleCloudPlatform/generative-ai/tree/main/setup-env)."
   ]
  },
  {
   "cell_type": "code",
   "execution_count": null,
   "metadata": {
    "id": "U9Gx2SAZkLKF"
   },
   "outputs": [],
   "source": [
    "# from google.colab import auth\n",
    "# auth.authenticate_user()"
   ]
  },
  {
   "cell_type": "code",
   "execution_count": null,
   "metadata": {},
   "outputs": [],
   "source": [
    "## Import configuration\n",
    "\n",
    "import yaml\n",
    "\n",
    "config_file = '/Users/jamesharding/repo/ml-gcp/config/p1.yaml'\n",
    "\n",
    "def get_variables(config_file):\n",
    "  with open(config_file, 'r') as f:\n",
    "    data = yaml.safe_load(f)\n",
    "  return data\n",
    "\n",
    "var = get_variables(config_file)\n",
    "\n",
    "for key,val in var.items():\n",
    "  exec(key + '=val')\n",
    "\n",
    "## Validate configuration\n",
    "# verify parameters are set\n",
    "if not (PROJECT_ID and REGION and GCS_BUCKET):\n",
    "    from absl import logging\n",
    "    logging.error('Please set all required parameters.')\n",
    "else:\n",
    "    print('Parameters set:')\n",
    "    print('\\t\\tROJECT_ID:\\t {}'.format(PROJECT_ID))\n",
    "    print('\\t\\tPROJECT_NUMBER:\\t {}'.format(PROJECT_NUMBER))\n",
    "    print('\\t\\tREGION:\\t\\t {}'.format(REGION))\n",
    "    print('\\t\\tGCS_BUCKET:\\t {}'.format(GCS_BUCKET))"
   ]
  },
  {
   "cell_type": "markdown",
   "metadata": {
    "id": "960505627ddf"
   },
   "source": [
    "### Import libraries\n"
   ]
  },
  {
   "cell_type": "markdown",
   "metadata": {},
   "source": [
    "**Colab only:** Uncomment the following cell to initialize the Vertex AI SDK. For Vertex AI Workbench, you don't need to run this.  "
   ]
  },
  {
   "cell_type": "code",
   "execution_count": 3,
   "metadata": {},
   "outputs": [],
   "source": [
    "import vertexai\n",
    "\n",
    "# PROJECT_ID = \"[your-project-id]\"  # @param {type:\"string\"}\n",
    "# vertexai.init(project=PROJECT_ID, location=\"us-central1\")"
   ]
  },
  {
   "cell_type": "code",
   "execution_count": 4,
   "metadata": {
    "id": "PyQmSRbKA8r-"
   },
   "outputs": [],
   "source": [
    "from vertexai.language_models import TextGenerationModel"
   ]
  },
  {
   "cell_type": "markdown",
   "metadata": {
    "id": "UP76a2la7O-a"
   },
   "source": [
    "### Import models"
   ]
  },
  {
   "cell_type": "code",
   "execution_count": 5,
   "metadata": {
    "id": "7isig7e07O-a"
   },
   "outputs": [],
   "source": [
    "generation_model = TextGenerationModel.from_pretrained(\"text-bison@001\")"
   ]
  },
  {
   "cell_type": "markdown",
   "metadata": {},
   "source": [
    "__Parameter definitions__\n",
    "\n",
    "The following [table ](https://cloud.google.com/vertex-ai/docs/generative-ai/start/quickstarts/api-quickstart#parameter_definitions)shows the parameters that you need to configure for the Vertex AI PaLM API for text."
   ]
  },
  {
   "cell_type": "markdown",
   "metadata": {
    "id": "Km9MirdFua-5"
   },
   "source": [
    "### Marketing campaign generation\n",
    "\n",
    "In this example, our generation example will involve the process of creating new cookie recipes. Let's see how this can be done using the PaLM API."
   ]
  },
  {
   "cell_type": "code",
   "execution_count": 6,
   "metadata": {
    "id": "q2v5Pdkdua-6"
   },
   "outputs": [
    {
     "name": "stdout",
     "output_type": "stream",
     "text": [
      "**Headline:** Sustainable fashion: The future of fashion is here\n",
      "\n",
      "**Body:**\n",
      "\n",
      "The fashion industry is one of the most polluting industries in the world. It produces a huge amount of waste, and it uses a lot of resources, including water, energy, and chemicals.\n",
      "\n",
      "But there is a growing movement towards sustainable fashion. This is fashion that is produced in a way that is less harmful to the environment. Sustainable fashion brands use recycled materials, fair trade labor, and other practices that reduce their impact on the planet.\n",
      "\n",
      "If you're looking for a way to make your wardrobe more sustainable, there are a few things you can do. First, you can start by buying less clothing. When you do buy new clothes, choose pieces that are made from sustainable materials and that are produced in a sustainable way. You can also look for brands that have a strong commitment to sustainability.\n",
      "\n",
      "Here are some tips for making your wardrobe more sustainable:\n",
      "\n",
      "* Buy less clothing.\n",
      "* Choose pieces that are made from sustainable materials.\n",
      "* Look for brands that have a strong commitment to sustainability.\n",
      "* Repair and repurpose your clothes.\n",
      "* Donate your old clothes to charity.\n",
      "* Recycle your clothes that can't be repaired or repurposed.\n",
      "\n",
      "By making small changes, you can make a big difference. Together, we can create a more sustainable fashion industry.\n",
      "\n",
      "**Call to action:**\n",
      "\n",
      "Visit our website to learn more about sustainable fashion and how you can make your wardrobe more sustainable.\n"
     ]
    }
   ],
   "source": [
    "prompt = \"Generate a marketing campaign for sustainability and fashion\"\n",
    "\n",
    "print(\n",
    "    generation_model.predict(\n",
    "        prompt, temperature=0.2, max_output_tokens=1024, top_k=40, top_p=0.8\n",
    "    ).text\n",
    ")"
   ]
  },
  {
   "cell_type": "markdown",
   "metadata": {
    "id": "7DC1rKWlua-6"
   },
   "source": [
    "### Creating reading comprehension questions\n",
    "\n",
    "Reading comprehension tests are often used in schools and universities to assess a student's reading skills. You can use the PaLM API to generate some example questions to test a person's understanding of a provided passage of text."
   ]
  },
  {
   "cell_type": "code",
   "execution_count": 7,
   "metadata": {
    "id": "Shb54o4vua-6"
   },
   "outputs": [
    {
     "name": "stdout",
     "output_type": "stream",
     "text": [
      "1. What is the name of the largest and most biodiverse tract of tropical rainforest in the world?\n",
      "2. What percentage of the Amazon rainforest is in Brazil?\n",
      "3. What is the name of the largest basin in the Amazon rainforest?\n",
      "4. What is the name of the lake that was created when the Andes Mountains rose?\n",
      "5. What is the name of the satellite that tracks the Sahara-Amazon dust plume?\n"
     ]
    }
   ],
   "source": [
    "prompt = \"\"\"\n",
    "Generate 5 questions that test a reader's comprehension of the following text.\n",
    "\n",
    "Text:\n",
    "The Amazon rainforest, also called Amazon jungle or Amazonia, is a moist broadleaf tropical rainforest in the Amazon biome that covers most of the Amazon basin of South America. This basin encompasses 7,000,000 km2 (2,700,000 sq mi), of which 5,500,000 km2 (2,100,000 sq mi) are covered by the rainforest. This region includes territory belonging to nine nations and 3,344 formally acknowledged indigenous territories.\n",
    "\n",
    "The majority of the forest, 60%, is in Brazil, followed by Peru with 13%, Colombia with 10%, and with minor amounts in Bolivia, Ecuador, French Guiana, Guyana, Suriname, and Venezuela. Four nations have \"Amazonas\" as the name of one of their first-level administrative regions, and France uses the name \"Guiana Amazonian Park\" for French Guiana's protected rainforest area. The Amazon represents over half of the planet's remaining rainforests, and comprises the largest and most biodiverse tract of tropical rainforest in the world, with an estimated 390 billion individual trees in about 16,000 species.\n",
    "\n",
    "More than 30 million people of 350 different ethnic groups live in the Amazon, which are subdivided into 9 different national political systems and 3,344 formally acknowledged indigenous territories. Indigenous peoples make up 9% of the total population, and 60 of the groups remain largely isolated.\n",
    "\n",
    "The rainforest likely formed during the Eocene era (from 56 million years to 33.9 million years ago). It appeared following a global reduction of tropical temperatures when the Atlantic Ocean had widened sufficiently to provide a warm, moist climate to the Amazon basin. The rainforest has been in existence for at least 55 million years, and most of the region remained free of savanna-type biomes at least until the current ice age when the climate was drier and savanna more widespread.\n",
    "\n",
    "Following the Cretaceous–Paleogene extinction event, the extinction of the dinosaurs and the wetter climate may have allowed the tropical rainforest to spread out across the continent. From 66 to 34 Mya, the rainforest extended as far south as 45°. Climate fluctuations during the last 34 million years have allowed savanna regions to expand into the tropics. During the Oligocene, for example, the rainforest spanned a relatively narrow band. It expanded again during the Middle Miocene, then retracted to a mostly inland formation at the last glacial maximum. However, the rainforest still managed to thrive during these glacial periods, allowing for the survival and evolution of a broad diversity of species.\n",
    "\n",
    "Aerial view of the Amazon rainforest\n",
    "During the mid-Eocene, it is believed that the drainage basin of the Amazon was split along the middle of the continent by the Púrus Arch. Water on the eastern side flowed toward the Atlantic, while to the west water flowed toward the Pacific across the Amazonas Basin. As the Andes Mountains rose, however, a large basin was created that enclosed a lake; now known as the Solimões Basin. Within the last 5–10 million years, this accumulating water broke through the Púrus Arch, joining the easterly flow toward the Atlantic.\n",
    "\n",
    "There is evidence that there have been significant changes in the Amazon rainforest vegetation over the last 21,000 years through the last glacial maximum (LGM) and subsequent deglaciation. Analyses of sediment deposits from Amazon basin paleolakes and the Amazon Fan indicate that rainfall in the basin during the LGM was lower than for the present, and this was almost certainly associated with reduced moist tropical vegetation cover in the basin. In present day, the Amazon receives approximately 9 feet of rainfall annually. There is a debate, however, over how extensive this reduction was. Some scientists argue that the rainforest was reduced to small, isolated refugia separated by open forest and grassland; other scientists argue that the rainforest remained largely intact but extended less far to the north, south, and east than is seen today. This debate has proved difficult to resolve because the practical limitations of working in the rainforest mean that data sampling is biased away from the center of the Amazon basin, and both explanations are reasonably well supported by the available data.\n",
    "\n",
    "Sahara Desert dust windblown to the Amazon\n",
    "More than 56% of the dust fertilizing the Amazon rainforest comes from the Bodélé depression in Northern Chad in the Sahara desert. The dust contains phosphorus, important for plant growth. The yearly Sahara dust replaces the equivalent amount of phosphorus washed away yearly in Amazon soil from rains and floods.\n",
    "\n",
    "NASA's CALIPSO satellite has measured the amount of dust transported by wind from the Sahara to the Amazon: an average of 182 million tons of dust are windblown out of the Sahara each year, at 15 degrees west longitude, across 2,600 km (1,600 mi) over the Atlantic Ocean (some dust falls into the Atlantic), then at 35 degrees West longitude at the eastern coast of South America, 27.7 million tons (15%) of dust fall over the Amazon basin (22 million tons of it consisting of phosphorus), 132 million tons of dust remain in the air, 43 million tons of dust are windblown and falls on the Caribbean Sea, past 75 degrees west longitude.\n",
    "\n",
    "CALIPSO uses a laser range finder to scan the Earth's atmosphere for the vertical distribution of dust and other aerosols. CALIPSO regularly tracks the Sahara-Amazon dust plume. CALIPSO has measured variations in the dust amounts transported – an 86 percent drop between the highest amount of dust transported in 2007 and the lowest in 2011.\n",
    "A possibility causing the variation is the Sahel, a strip of semi-arid land on the southern border of the Sahara. When rain amounts in the Sahel are higher, the volume of dust is lower. The higher rainfall could make more vegetation grow in the Sahel, leaving less sand exposed to winds to blow away.[25]\n",
    "\n",
    "Amazon phosphorus also comes as smoke due to biomass burning in Africa.\n",
    "\n",
    "Questions:\n",
    "\"\"\"\n",
    "\n",
    "print(\n",
    "    generation_model.predict(\n",
    "        prompt, temperature=0.2, max_output_tokens=1024, top_k=40, top_p=0.8\n",
    "    ).text\n",
    ")"
   ]
  },
  {
   "cell_type": "markdown",
   "metadata": {
    "id": "GCcCMhbOua-7"
   },
   "source": [
    "### Meme generation\n",
    "\n",
    "A more lighthearted text generation example is to generate memes based on a certain topic."
   ]
  },
  {
   "cell_type": "code",
   "execution_count": 8,
   "metadata": {
    "id": "6l_BZnx5ua-7"
   },
   "outputs": [
    {
     "name": "stdout",
     "output_type": "stream",
     "text": [
      "1. A dog sitting in a chair with a newspaper in its mouth, with the caption \"I'm just waiting for my human to get home so I can tell them all about my day.\"\n",
      "2. A dog looking at a computer screen with the caption \"When you see your human looking at memes on the internet.\"\n",
      "3. A dog wearing a hat and sunglasses with the caption \"I'm too cool for school.\"\n",
      "4. A dog playing fetch with a ball in the park with the caption \"I'm having the best day ever.\"\n",
      "5. A dog sleeping on the couch with the caption \"I'm so tired from playing all day.\"\n"
     ]
    }
   ],
   "source": [
    "prompt = \"Give me 5 dog meme ideas:\"\n",
    "\n",
    "print(\n",
    "    generation_model.predict(\n",
    "        prompt, temperature=0.2, max_output_tokens=1024, top_k=1, top_p=0.8\n",
    "    ).text\n",
    ")"
   ]
  },
  {
   "cell_type": "markdown",
   "metadata": {
    "id": "q9lnIlmWua-8"
   },
   "source": [
    "### Interview question generation\n",
    "\n",
    "Whether you are the interviewer or interviewee, having some sample interview questions you can work with can be very helpful in job interviews. Below we use the PaLM API to help us generate some potential interview questions for a particular role."
   ]
  },
  {
   "cell_type": "code",
   "execution_count": 9,
   "metadata": {
    "id": "xGrZMUt5ua-8"
   },
   "outputs": [
    {
     "name": "stdout",
     "output_type": "stream",
     "text": [
      "1. What is your experience with natural language processing (NLP)?\n",
      "2. What are your skills in machine learning (ML)?\n",
      "3. How would you design a prompt that would generate text that is both informative and engaging?\n",
      "4. What are the challenges of working with large language models (LLMs)?\n",
      "5. How would you ensure that the prompts you generate are safe and responsible?\n",
      "6. How would you measure the success of a prompt?\n",
      "7. What are your thoughts on the future of prompt engineering?\n",
      "8. What are your salary expectations?\n",
      "9. What are your availability and start date?\n",
      "10. Do you have any questions for me?\n"
     ]
    }
   ],
   "source": [
    "prompt = \"Give me ten interview questions for the role of prompt engineer.\"\n",
    "\n",
    "print(\n",
    "    generation_model.predict(\n",
    "        prompt, temperature=0.2, max_output_tokens=256, top_k=1, top_p=0.8\n",
    "    ).text\n",
    ")"
   ]
  },
  {
   "cell_type": "code",
   "execution_count": 10,
   "metadata": {},
   "outputs": [
    {
     "name": "stdout",
     "output_type": "stream",
     "text": [
      "1. What is your experience with natural language processing (NLP)?\n",
      "2. Can you explain the difference between a prompt and an answer?\n",
      "3. What are the different types of prompts?\n",
      "4. How do you generate prompts that are informative and engaging?\n",
      "5. How do you evaluate the quality of a prompt?\n",
      "6. What are the challenges of working as a prompt engineer?\n",
      "7. How do you stay up-to-date on the latest developments in NLP?\n",
      "8. What are your thoughts on the future of prompt engineering?\n",
      "9. What are your salary expectations?\n",
      "10. What are your availability and start date?\n"
     ]
    }
   ],
   "source": [
    "print(\n",
    "    generation_model.predict(\n",
    "        prompt, temperature=0.2, max_output_tokens=256, top_k=40, top_p=0.8\n",
    "    ).text\n",
    ")"
   ]
  },
  {
   "cell_type": "markdown",
   "metadata": {
    "id": "d1nSLoW7ua-8"
   },
   "source": [
    "### Name generation\n",
    "\n",
    "Name generation is useful in a variety of scenarios, such as creating new characters for a story or naming a new product or company. You can generate ideas for names of a specified entity using the PaLM API."
   ]
  },
  {
   "cell_type": "code",
   "execution_count": 11,
   "metadata": {
    "id": "qLnUrgs8ua-8"
   },
   "outputs": [
    {
     "name": "stdout",
     "output_type": "stream",
     "text": [
      "* **Dried & Lovely**\n",
      "* **Dried Blooms**\n",
      "* **Dried Florals**\n",
      "* **Dried Arrangements**\n",
      "* **Dried Bouquets**\n",
      "* **Dried Flowers**\n",
      "* **Preserved Flowers**\n",
      "* **Forever Flowers**\n",
      "* **Immortal Flowers**\n",
      "* **Timeless Flowers**\n",
      "* **Seasonal Flowers**\n",
      "* **Festive Flowers**\n",
      "* **Holiday Flowers**\n",
      "* **Special Occasion Flowers**\n",
      "* **Wedding Flowers**\n",
      "* **Anniversary Flowers**\n",
      "* **Birthday Flowers**\n",
      "* **Sympathy Flowers**\n",
      "* **Condolence Flowers**\n",
      "* **Get Well Flowers**\n",
      "* **Thank You Flowers**\n",
      "* **I'm Sorry Flowers**\n",
      "* **I Love You Flowers**\n"
     ]
    }
   ],
   "source": [
    "prompt = \"What's a good name for a flower shop that specializes in selling bouquets of dried flowers?\"\n",
    "\n",
    "print(\n",
    "    generation_model.predict(\n",
    "        prompt, temperature=0.2, max_output_tokens=256, top_k=1, top_p=0.8\n",
    "    ).text\n",
    ")"
   ]
  },
  {
   "cell_type": "markdown",
   "metadata": {
    "id": "M5Ca5Btvua-8"
   },
   "source": [
    "### General tips and advice\n",
    "\n",
    "Below is an example of using the PaLM API to get tips and advice on general topics."
   ]
  },
  {
   "cell_type": "code",
   "execution_count": 12,
   "metadata": {
    "id": "aFy4ix6Cua-9"
   },
   "outputs": [
    {
     "name": "stdout",
     "output_type": "stream",
     "text": [
      "* **Set a timer.** Sometimes, the best way to get started is to just start. Set a timer for 10 minutes and write whatever comes to mind. Don't worry about editing or making it perfect. Just write.\n",
      "* **Freewrite.** Another way to get started is to freewrite. This means writing without stopping for a set period of time, usually 10-15 minutes. Don't worry about spelling, grammar, or punctuation. Just write whatever comes to mind.\n",
      "* **Write about your feelings.** If you're feeling stuck, try writing about your feelings. This can help you to get in touch with your creativity and start to generate ideas.\n",
      "* **Take a break.** Sometimes, the best way to overcome writer's block is to take a break. Step away from your work for a little while and do something else. Go for a walk, listen to music, or spend time with friends or family. When you come back to your work, you'll often find that you're feeling refreshed and ready to write.\n",
      "* **Get feedback.** If you're still struggling, try getting feedback from someone else. This could be a friend, family member, teacher, or writing coach. Feedback can help you to identify areas where your writing can be improved, and it can also give you the motivation to keep writing.\n",
      "* **Don't give up.** Writer's block is a common problem, but it's not impossible to overcome. Just keep writing, and eventually you'll find your way through it.\n"
     ]
    }
   ],
   "source": [
    "prompt = \"What are some strategies for overcoming writer's block?\"\n",
    "\n",
    "print(\n",
    "    generation_model.predict(\n",
    "        prompt, temperature=0.2, max_output_tokens=1024, top_k=1, top_p=0.8\n",
    "    ).text\n",
    ")"
   ]
  },
  {
   "cell_type": "markdown",
   "metadata": {},
   "source": [
    "### Generating answers through \"impersonation\"\n",
    "\n",
    "Below is an example for using PaLM API to impersonating a pirate."
   ]
  },
  {
   "cell_type": "code",
   "execution_count": 13,
   "metadata": {},
   "outputs": [
    {
     "name": "stdout",
     "output_type": "stream",
     "text": [
      "Yarr! If ye want to live a long and happy life, ye best be learnin' all ye can. But don't forget to enjoy yerself, too. After all, tomorrow may never come.\n"
     ]
    }
   ],
   "source": [
    "prompt = \"\"\"You are a pirate. Take the following sentence and rephrase it as a pirate.\n",
    "'Learn as if you will live forever, live like you will die tomorrow.' \n",
    "\"\"\"\n",
    "\n",
    "print(\n",
    "    generation_model.predict(\n",
    "        prompt, temperature=0.8, max_output_tokens=1024, top_k=40, top_p=0.8\n",
    "    ).text\n",
    ")"
   ]
  },
  {
   "cell_type": "code",
   "execution_count": 14,
   "metadata": {},
   "outputs": [
    {
     "name": "stdout",
     "output_type": "stream",
     "text": [
      "Yo\n",
      "\n",
      "I'm a pirate, I'm here to say\n",
      "I'm gonna teach you something today\n",
      "\n",
      "Learn as if you will live forever\n",
      "Live like you will die tomorrow\n",
      "\n",
      "So take my advice and don't waste time\n",
      "Live your life to the fullest and make your dreams come true\n",
      "\n",
      "Don't be afraid to take risks\n",
      "And don't let anyone tell you that you can't do something\n",
      "\n",
      "You can achieve anything you set your mind to\n",
      "So go out there and make the most of your life\n",
      "\n",
      "Yar!\n"
     ]
    }
   ],
   "source": [
    "prompt = \"\"\"You are a rapper. Take the following sentence and rephrase it as a pirate.\n",
    "'Learn as if you will live forever, live like you will die tomorrow.' \n",
    "\"\"\"\n",
    "\n",
    "print(\n",
    "    generation_model.predict(\n",
    "        prompt, temperature=0.8, max_output_tokens=1024, top_k=40, top_p=0.8\n",
    "    ).text\n",
    ")"
   ]
  },
  {
   "cell_type": "code",
   "execution_count": null,
   "metadata": {},
   "outputs": [],
   "source": []
  }
 ],
 "metadata": {
  "colab": {
   "name": "ideation.ipynb",
   "toc_visible": true
  },
  "environment": {
   "kernel": "python3",
   "name": "tf2-gpu.2-11.m108",
   "type": "gcloud",
   "uri": "gcr.io/deeplearning-platform-release/tf2-gpu.2-11:m108"
  },
  "kernelspec": {
   "display_name": "Python 3 (ipykernel)",
   "language": "python",
   "name": "python3"
  },
  "language_info": {
   "codemirror_mode": {
    "name": "ipython",
    "version": 3
   },
   "file_extension": ".py",
   "mimetype": "text/x-python",
   "name": "python",
   "nbconvert_exporter": "python",
   "pygments_lexer": "ipython3",
   "version": "3.11.5"
  }
 },
 "nbformat": 4,
 "nbformat_minor": 4
}
